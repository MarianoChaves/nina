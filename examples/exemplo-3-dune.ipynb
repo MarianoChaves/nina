{
 "cells": [
  {
   "cell_type": "code",
   "execution_count": 10,
   "id": "4bc2d6cb",
   "metadata": {},
   "outputs": [],
   "source": [
    "import pandas as pd\n",
    "from scipy.interpolate import interp1d\n",
    "import numpy as np\n",
    "import matplotlib.pyplot as plt"
   ]
  },
  {
   "cell_type": "markdown",
   "id": "946589e8",
   "metadata": {},
   "source": [
    "# Flux"
   ]
  },
  {
   "cell_type": "code",
   "execution_count": 11,
   "id": "975334a0",
   "metadata": {},
   "outputs": [],
   "source": [
    "data_antinu = np.loadtxt('flux-dune-antinu-FD.txt')\n",
    "Flux = np.transpose(data_antinu)\n",
    "\n",
    "flux_nue = Flux[1]\n",
    "flux_numu = Flux[2]\n",
    "flux_nuebar = Flux[4]\n",
    "flux_numubar = Flux[5]\n",
    "energy_in = Flux[0]\n",
    "\n",
    "flux_nue_neg = interp1d(energy_in,flux_nue)\n",
    "flux_numu_neg = interp1d(energy_in,flux_numu)\n",
    "flux_nuebar_neg = interp1d(energy_in,flux_nuebar)\n",
    "flux_numubar_neg = interp1d(energy_in,flux_numubar)\n",
    "\n",
    "#fluxo neutrino far detector\n",
    "\n",
    "X2 = np.loadtxt('flux-dune-nu-FD.txt')\n",
    "Flux = np.transpose(X2)\n",
    "\n",
    "flux_nue = Flux[1]\n",
    "flux_numu = Flux[2]\n",
    "flux_nuebar = Flux[4]\n",
    "flux_numubar = Flux[5]\n",
    "\n",
    "\n",
    "energy_in = Flux[0]\n",
    "flux_nue_pos = interp1d(energy_in,flux_nue)\n",
    "flux_numu_pos = interp1d(energy_in,flux_numu)\n",
    "flux_nuebar_pos = interp1d(energy_in,flux_nuebar)\n",
    "flux_numubar_pos = interp1d(energy_in,flux_numubar)"
   ]
  },
  {
   "cell_type": "markdown",
   "id": "ae1c7ab0",
   "metadata": {},
   "source": [
    "# Cross-section"
   ]
  },
  {
   "cell_type": "code",
   "execution_count": 12,
   "id": "b9b7a36e",
   "metadata": {},
   "outputs": [],
   "source": [
    "df = pd.read_csv('xsec_cc.dat', delimiter=\" \", header=None)\n",
    "energy_in =10**df[0]\n",
    "nue = df[1]/energy_in\n",
    "numu = df[2]/energy_in\n",
    "nuae = df[4]/energy_in\n",
    "nuamu = df[5]/energy_in\n",
    "\n",
    "xsec_nue = interp1d(energy_in,nue)\n",
    "xsec_numu = interp1d(energy_in,numu)\n",
    "xsec_nuebar = interp1d(energy_in,nuae)\n",
    "xsec_numubar = interp1d(energy_in,nuamu)"
   ]
  },
  {
   "cell_type": "code",
   "execution_count": 13,
   "id": "6e26ab57",
   "metadata": {},
   "outputs": [
    {
     "data": {
      "text/plain": [
       "[<matplotlib.lines.Line2D at 0x1a303febc10>]"
      ]
     },
     "execution_count": 13,
     "metadata": {},
     "output_type": "execute_result"
    },
    {
     "data": {
      "image/png": "[encoded data removed]",
      "text/plain": [
       "<Figure size 432x288 with 1 Axes>"
      ]
     },
     "metadata": {
      "needs_background": "light"
     },
     "output_type": "display_data"
    }
   ],
   "source": [
    "E_test = np.linspace(1,5,100)\n",
    "\n",
    "plt.plot(E_test, flux_numu_pos(E_test)*xsec_numu(E_test))"
   ]
  },
  {
   "cell_type": "code",
   "execution_count": 14,
   "id": "65803f73",
   "metadata": {},
   "outputs": [],
   "source": [
    "import nina"
   ]
  },
  {
   "cell_type": "code",
   "execution_count": 27,
   "id": "75e322fa",
   "metadata": {},
   "outputs": [],
   "source": [
    "class NonOsc(nina.Prob):\n",
    "    def func(self, energy):\n",
    "        prob = energy/energy\n",
    "        return prob\n",
    "\n",
    "class Prob2nu(nina.Prob):\n",
    "    def func(self, energy):\n",
    "        return 1-self.params[0]*np.sin(2.16*self.params[1]*self.L/energy)**2"
   ]
  },
  {
   "cell_type": "code",
   "execution_count": 30,
   "id": "da293d51",
   "metadata": {},
   "outputs": [],
   "source": [
    "#prob = NonOsc([], 1.3)\n",
    "prob = Prob2nu([0.5,2.5*10**-3], 1.3)\n",
    "\n",
    "detector = nina.Detector( xsec = xsec_numu, position = [0,0,0] )\n",
    "source = nina.Source( flux = flux_numu_pos, position = [1.3,0,0] )\n",
    "histogram = nina.Histogram.getUniform(0.5,8,30)\n",
    "\n",
    "numu_pos = nina.Signal( detector, source, prob, histogram, norm=4010229771119106.0)\n",
    "numu_pos.norm = 1\n",
    "numu_pos_events = numu_pos.simulate()"
   ]
  },
  {
   "cell_type": "code",
   "execution_count": 31,
   "id": "cfc02ff8",
   "metadata": {},
   "outputs": [
    {
     "data": {
      "text/plain": [
       "<matplotlib.collections.PathCollection at 0x1a3039d9b10>"
      ]
     },
     "execution_count": 31,
     "metadata": {},
     "output_type": "execute_result"
    },
    {
     "data": {
      "image/png": "[encoded data removed]",
      "text/plain": [
       "<Figure size 432x288 with 1 Axes>"
      ]
     },
     "metadata": {
      "needs_background": "light"
     },
     "output_type": "display_data"
    }
   ],
   "source": [
    "plt.scatter(np.linspace(0.5,8,30),numu_pos_events*4010229771119106.0)"
   ]
  }
 ],
 "metadata": {
  "interpreter": {
   "hash": "1774db1b1716f81e1c53397c2e845f48c3bfc625098cece8eea8f301ac9e88e6"
  },
  "kernelspec": {
   "display_name": "Python 3.10.4 64-bit (windows store)",
   "language": "python",
   "name": "python3"
  },
  "language_info": {
   "codemirror_mode": {
    "name": "ipython",
    "version": 3
   },
   "file_extension": ".py",
   "mimetype": "text/x-python",
   "name": "python",
   "nbconvert_exporter": "python",
   "pygments_lexer": "ipython3",
   "version": "3.10.4"
  }
 },
 "nbformat": 4,
 "nbformat_minor": 5
}
